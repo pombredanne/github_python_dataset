setuptools
setuptools.setup
setuptools.find_packages
django.core.management.base
django.core.management.base.BaseCommand
os
sys
